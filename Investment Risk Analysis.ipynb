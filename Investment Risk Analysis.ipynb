{
 "cells": [
  {
   "cell_type": "code",
   "execution_count": 8,
   "id": "ed0c4f26",
   "metadata": {},
   "outputs": [],
   "source": [
    "import pandas as pd\n",
    "import numpy as np\n",
    "\n",
    "import matplotlib.pyplot as plt\n",
    "import seaborn as sns\n",
    "sns.set_style('whitegrid')\n",
    "plt.style.use(\"fivethirtyeight\")\n",
    "%matplotlib inline\n",
    "\n",
    "# For reading stock data from yahoo\n",
    "from pandas_datareader.data import DataReader\n",
    "\n",
    "# For time stamps\n",
    "from datetime import datetime\n",
    "\n",
    "from scipy.stats import skew\n",
    "from scipy.stats import kurtosis\n",
    "from scipy.stats import shapiro\n",
    "\n",
    "import yfinance as yf\n",
    "import pandas_datareader.data as pdr"
   ]
  },
  {
   "cell_type": "code",
   "execution_count": 9,
   "id": "82a4658c",
   "metadata": {},
   "outputs": [
    {
     "name": "stdout",
     "output_type": "stream",
     "text": [
      "[*********************100%***********************]  1 of 1 completed\n"
     ]
    },
    {
     "data": {
      "text/html": [
       "<div>\n",
       "<style scoped>\n",
       "    .dataframe tbody tr th:only-of-type {\n",
       "        vertical-align: middle;\n",
       "    }\n",
       "\n",
       "    .dataframe tbody tr th {\n",
       "        vertical-align: top;\n",
       "    }\n",
       "\n",
       "    .dataframe thead th {\n",
       "        text-align: right;\n",
       "    }\n",
       "</style>\n",
       "<table border=\"1\" class=\"dataframe\">\n",
       "  <thead>\n",
       "    <tr style=\"text-align: right;\">\n",
       "      <th></th>\n",
       "      <th>Open</th>\n",
       "      <th>High</th>\n",
       "      <th>Low</th>\n",
       "      <th>Close</th>\n",
       "      <th>Adj Close</th>\n",
       "      <th>Volume</th>\n",
       "    </tr>\n",
       "    <tr>\n",
       "      <th>Date</th>\n",
       "      <th></th>\n",
       "      <th></th>\n",
       "      <th></th>\n",
       "      <th></th>\n",
       "      <th></th>\n",
       "      <th></th>\n",
       "    </tr>\n",
       "  </thead>\n",
       "  <tbody>\n",
       "    <tr>\n",
       "      <th>2016-01-04</th>\n",
       "      <td>25.652500</td>\n",
       "      <td>26.342501</td>\n",
       "      <td>25.500000</td>\n",
       "      <td>26.337500</td>\n",
       "      <td>24.251436</td>\n",
       "      <td>270597600</td>\n",
       "    </tr>\n",
       "    <tr>\n",
       "      <th>2016-01-05</th>\n",
       "      <td>26.437500</td>\n",
       "      <td>26.462500</td>\n",
       "      <td>25.602501</td>\n",
       "      <td>25.677500</td>\n",
       "      <td>23.643711</td>\n",
       "      <td>223164000</td>\n",
       "    </tr>\n",
       "    <tr>\n",
       "      <th>2016-01-06</th>\n",
       "      <td>25.139999</td>\n",
       "      <td>25.592501</td>\n",
       "      <td>24.967501</td>\n",
       "      <td>25.174999</td>\n",
       "      <td>23.181007</td>\n",
       "      <td>273829600</td>\n",
       "    </tr>\n",
       "    <tr>\n",
       "      <th>2016-01-07</th>\n",
       "      <td>24.670000</td>\n",
       "      <td>25.032499</td>\n",
       "      <td>24.107500</td>\n",
       "      <td>24.112499</td>\n",
       "      <td>22.202665</td>\n",
       "      <td>324377600</td>\n",
       "    </tr>\n",
       "    <tr>\n",
       "      <th>2016-01-08</th>\n",
       "      <td>24.637501</td>\n",
       "      <td>24.777500</td>\n",
       "      <td>24.190001</td>\n",
       "      <td>24.240000</td>\n",
       "      <td>22.320072</td>\n",
       "      <td>283192000</td>\n",
       "    </tr>\n",
       "    <tr>\n",
       "      <th>...</th>\n",
       "      <td>...</td>\n",
       "      <td>...</td>\n",
       "      <td>...</td>\n",
       "      <td>...</td>\n",
       "      <td>...</td>\n",
       "      <td>...</td>\n",
       "    </tr>\n",
       "    <tr>\n",
       "      <th>2021-12-27</th>\n",
       "      <td>177.089996</td>\n",
       "      <td>180.419998</td>\n",
       "      <td>177.070007</td>\n",
       "      <td>180.330002</td>\n",
       "      <td>180.330002</td>\n",
       "      <td>74919600</td>\n",
       "    </tr>\n",
       "    <tr>\n",
       "      <th>2021-12-28</th>\n",
       "      <td>180.160004</td>\n",
       "      <td>181.330002</td>\n",
       "      <td>178.529999</td>\n",
       "      <td>179.289993</td>\n",
       "      <td>179.289993</td>\n",
       "      <td>79144300</td>\n",
       "    </tr>\n",
       "    <tr>\n",
       "      <th>2021-12-29</th>\n",
       "      <td>179.330002</td>\n",
       "      <td>180.630005</td>\n",
       "      <td>178.139999</td>\n",
       "      <td>179.380005</td>\n",
       "      <td>179.380005</td>\n",
       "      <td>62348900</td>\n",
       "    </tr>\n",
       "    <tr>\n",
       "      <th>2021-12-30</th>\n",
       "      <td>179.470001</td>\n",
       "      <td>180.570007</td>\n",
       "      <td>178.089996</td>\n",
       "      <td>178.199997</td>\n",
       "      <td>178.199997</td>\n",
       "      <td>59773000</td>\n",
       "    </tr>\n",
       "    <tr>\n",
       "      <th>2021-12-31</th>\n",
       "      <td>178.089996</td>\n",
       "      <td>179.229996</td>\n",
       "      <td>177.259995</td>\n",
       "      <td>177.570007</td>\n",
       "      <td>177.570007</td>\n",
       "      <td>64025500</td>\n",
       "    </tr>\n",
       "  </tbody>\n",
       "</table>\n",
       "<p>1511 rows × 6 columns</p>\n",
       "</div>"
      ],
      "text/plain": [
       "                  Open        High         Low       Close   Adj Close  \\\n",
       "Date                                                                     \n",
       "2016-01-04   25.652500   26.342501   25.500000   26.337500   24.251436   \n",
       "2016-01-05   26.437500   26.462500   25.602501   25.677500   23.643711   \n",
       "2016-01-06   25.139999   25.592501   24.967501   25.174999   23.181007   \n",
       "2016-01-07   24.670000   25.032499   24.107500   24.112499   22.202665   \n",
       "2016-01-08   24.637501   24.777500   24.190001   24.240000   22.320072   \n",
       "...                ...         ...         ...         ...         ...   \n",
       "2021-12-27  177.089996  180.419998  177.070007  180.330002  180.330002   \n",
       "2021-12-28  180.160004  181.330002  178.529999  179.289993  179.289993   \n",
       "2021-12-29  179.330002  180.630005  178.139999  179.380005  179.380005   \n",
       "2021-12-30  179.470001  180.570007  178.089996  178.199997  178.199997   \n",
       "2021-12-31  178.089996  179.229996  177.259995  177.570007  177.570007   \n",
       "\n",
       "               Volume  \n",
       "Date                   \n",
       "2016-01-04  270597600  \n",
       "2016-01-05  223164000  \n",
       "2016-01-06  273829600  \n",
       "2016-01-07  324377600  \n",
       "2016-01-08  283192000  \n",
       "...               ...  \n",
       "2021-12-27   74919600  \n",
       "2021-12-28   79144300  \n",
       "2021-12-29   62348900  \n",
       "2021-12-30   59773000  \n",
       "2021-12-31   64025500  \n",
       "\n",
       "[1511 rows x 6 columns]"
      ]
     },
     "execution_count": 9,
     "metadata": {},
     "output_type": "execute_result"
    }
   ],
   "source": [
    "tech_list = ['AAPL']\n",
    "\n",
    "yf.pdr_override()\n",
    "\n",
    "start_date = '1-1-2016'\n",
    "end_date = '1-1-2022'\n",
    "\n",
    "start = datetime.strptime(start_date, '%d-%m-%Y')\n",
    "end = datetime.strptime(end_date, '%d-%m-%Y')\n",
    "\n",
    "for stock in tech_list:   \n",
    "    # Set DataFrame as the Stock Ticker\n",
    "    globals()[stock] = pdr.get_data_yahoo('AAPL', data_source='yahoo', start=start, end=end)\n",
    "    \n",
    "company_list = [AAPL]\n",
    "company_name = [\"APPLE\"]\n",
    "\n",
    "for company, com_name in zip(company_list, company_name):\n",
    "    company[\"company_name\"] = com_name\n",
    "    \n",
    "df1 = pd.concat(company_list, axis=0)\n",
    "df1 = df1.drop('company_name', 1)\n",
    "df1"
   ]
  },
  {
   "cell_type": "code",
   "execution_count": 10,
   "id": "02d34a1d",
   "metadata": {},
   "outputs": [
    {
     "data": {
      "image/png": "[encoded data removed]",
      "text/plain": [
       "<Figure size 432x288 with 1 Axes>"
      ]
     },
     "metadata": {
      "needs_background": "light"
     },
     "output_type": "display_data"
    }
   ],
   "source": [
    "df1['Returns'] = df1['Adj Close'].pct_change()\n",
    "df1['Returns'].plot()\n",
    "plt.show()"
   ]
  },
  {
   "cell_type": "code",
   "execution_count": 11,
   "id": "a3b26c05",
   "metadata": {},
   "outputs": [
    {
     "data": {
      "image/png": "[encoded data removed]",
      "text/plain": [
       "<Figure size 432x288 with 1 Axes>"
      ]
     },
     "metadata": {
      "needs_background": "light"
     },
     "output_type": "display_data"
    }
   ],
   "source": [
    "returns_percent = df1['Returns'] * 100\n",
    "returns_percent.dropna(inplace=True)\n",
    "\n",
    "plt.hist(returns_percent, bins=75)\n",
    "plt.xlabel(\"Percentage of Returns\")\n",
    "plt.show()"
   ]
  },
  {
   "cell_type": "code",
   "execution_count": 12,
   "id": "3616feb7",
   "metadata": {},
   "outputs": [
    {
     "name": "stdout",
     "output_type": "stream",
     "text": [
      "Daily Mean Returns: 0.0014907537660482698\n",
      "Annual Mean Returns: 0.4555592795358401\n"
     ]
    }
   ],
   "source": [
    "daily_mean_returns = np.mean(df1['Returns'])\n",
    "print(\"Daily Mean Returns: \" + str(daily_mean_returns))\n",
    "\n",
    "annual_mean_returns = ((1+ daily_mean_returns)**252)-1\n",
    "print(\"Annual Mean Returns: \" + str(annual_mean_returns))"
   ]
  },
  {
   "cell_type": "code",
   "execution_count": 13,
   "id": "f97cd96e",
   "metadata": {},
   "outputs": [
    {
     "name": "stdout",
     "output_type": "stream",
     "text": [
      "Daily Standard Deviation 0.018503613387958466\n",
      "Annual Standard Deviation 0.29373575628374055\n",
      "\n",
      "\n",
      "Daily Variance 0.00034238370841103576\n",
      "Annual Variance 0.08628069451958102\n"
     ]
    }
   ],
   "source": [
    "daily_std = np.std(df1['Returns'])\n",
    "annual_std = daily_std*np.sqrt(252)\n",
    "print(\"Daily Standard Deviation \" + str(daily_std))\n",
    "print(\"Annual Standard Deviation \" + str(annual_std ))\n",
    "\n",
    "print('\\n')\n",
    "\n",
    "daily_var= daily_std**2\n",
    "annual_var = annual_std**2\n",
    "print(\"Daily Variance \" + str(daily_var))\n",
    "print(\"Annual Variance \" + str(annual_var))"
   ]
  },
  {
   "cell_type": "code",
   "execution_count": 14,
   "id": "0266f64a",
   "metadata": {},
   "outputs": [
    {
     "name": "stdout",
     "output_type": "stream",
     "text": [
      "Skewness: -0.09749356097948124\n"
     ]
    }
   ],
   "source": [
    "returns = df1['Returns'].dropna()\n",
    "skewness = skew(returns)\n",
    "print(\"Skewness: \" + str(skewness))"
   ]
  },
  {
   "cell_type": "code",
   "execution_count": 15,
   "id": "c43e2720",
   "metadata": {},
   "outputs": [
    {
     "name": "stdout",
     "output_type": "stream",
     "text": [
      "Excess kurtosis: 6.723091211300526\n",
      "Real kurtosis: 9.723091211300526\n"
     ]
    }
   ],
   "source": [
    "excess_kurtosis = kurtosis(returns)\n",
    "print(\"Excess kurtosis: \" + str(excess_kurtosis))\n",
    "\n",
    "real_kurtosis = excess_kurtosis + 3\n",
    "print(\"Real kurtosis: \" + str(real_kurtosis))"
   ]
  },
  {
   "cell_type": "code",
   "execution_count": null,
   "id": "e2ee5d00",
   "metadata": {},
   "outputs": [],
   "source": []
  }
 ],
 "metadata": {
  "kernelspec": {
   "display_name": "Python 3",
   "language": "python",
   "name": "python3"
  },
  "language_info": {
   "codemirror_mode": {
    "name": "ipython",
    "version": 3
   },
   "file_extension": ".py",
   "mimetype": "text/x-python",
   "name": "python",
   "nbconvert_exporter": "python",
   "pygments_lexer": "ipython3",
   "version": "3.8.8"
  }
 },
 "nbformat": 4,
 "nbformat_minor": 5
}
