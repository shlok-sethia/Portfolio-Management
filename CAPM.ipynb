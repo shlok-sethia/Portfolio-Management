{
 "cells": [
  {
   "cell_type": "code",
   "execution_count": 1,
   "id": "ecf0eb87",
   "metadata": {},
   "outputs": [],
   "source": [
    "import pandas as pd\n",
    "import yfinance as yf\n",
    "import statsmodels.api as sm\n",
    "import getFamaFrenchFactors as gff"
   ]
  },
  {
   "cell_type": "code",
   "execution_count": 2,
   "id": "848c0e10",
   "metadata": {},
   "outputs": [],
   "source": [
    "ticker = 'AAPL'\n",
    "start = '2016-1-1'\n",
    "end = '2022-1-1'"
   ]
  },
  {
   "cell_type": "code",
   "execution_count": 3,
   "id": "c6eb4b13",
   "metadata": {},
   "outputs": [
    {
     "name": "stdout",
     "output_type": "stream",
     "text": [
      "[*********************100%***********************]  1 of 1 completed\n"
     ]
    }
   ],
   "source": [
    "df = yf.download(ticker, start, end, adjusted=True)"
   ]
  },
  {
   "cell_type": "code",
   "execution_count": 4,
   "id": "67506439",
   "metadata": {},
   "outputs": [],
   "source": [
    "stock_prices = df['Adj Close']\n",
    "stock_prices = stock_prices.resample(\"1M\").last()\n",
    "returns = stock_prices.pct_change()\n",
    "returns = returns.dropna()\n",
    "returns.name = \"Asset\""
   ]
  },
  {
   "cell_type": "code",
   "execution_count": 5,
   "id": "64c0e286",
   "metadata": {},
   "outputs": [],
   "source": [
    "ff3_monthly = pd.DataFrame(gff.famaFrench3Factor(frequency='m'))\n",
    "ff3_monthly.rename(columns={\"date_ff_factors\": 'Date'}, inplace=True)\n",
    "ff3_monthly.set_index('Date', inplace=True)\n",
    "ff_data = ff3_monthly.merge(returns, on='Date')\n",
    "rf = ff_data['RF'].mean()\n",
    "market_premium = ff_data['Mkt-RF'].mean()"
   ]
  },
  {
   "cell_type": "code",
   "execution_count": 6,
   "id": "eb5922b9",
   "metadata": {},
   "outputs": [
    {
     "name": "stdout",
     "output_type": "stream",
     "text": [
      "                            OLS Regression Results                            \n",
      "==============================================================================\n",
      "Dep. Variable:               Asset-RF   R-squared:                       0.365\n",
      "Model:                            OLS   Adj. R-squared:                  0.356\n",
      "Method:                 Least Squares   F-statistic:                     39.13\n",
      "Date:                Thu, 06 Jan 2022   Prob (F-statistic):           3.03e-08\n",
      "Time:                        22:49:12   Log-Likelihood:                 90.840\n",
      "No. Observations:                  70   AIC:                            -177.7\n",
      "Df Residuals:                      68   BIC:                            -173.2\n",
      "Df Model:                           1                                         \n",
      "Covariance Type:            nonrobust                                         \n",
      "==============================================================================\n",
      "                 coef    std err          t      P>|t|      [0.025      0.975]\n",
      "------------------------------------------------------------------------------\n",
      "const          0.0149      0.008      1.770      0.081      -0.002       0.032\n",
      "Mkt-RF         1.1455      0.183      6.255      0.000       0.780       1.511\n",
      "==============================================================================\n",
      "Omnibus:                        5.134   Durbin-Watson:                   2.223\n",
      "Prob(Omnibus):                  0.077   Jarque-Bera (JB):                4.296\n",
      "Skew:                          -0.495   Prob(JB):                        0.117\n",
      "Kurtosis:                       3.703   Cond. No.                         22.9\n",
      "==============================================================================\n",
      "\n",
      "Notes:\n",
      "[1] Standard Errors assume that the covariance matrix of the errors is correctly specified.\n"
     ]
    }
   ],
   "source": [
    "X = ff_data['Mkt-RF']\n",
    "ff_data['Asset-RF'] = ff_data['Asset'] - ff_data['RF']\n",
    "y = ff_data['Asset-RF']\n",
    "c = sm.add_constant(X)\n",
    "capm_model = sm.OLS(y, c)\n",
    "result = capm_model.fit()\n",
    "print(result.summary())\n",
    "intercept, beta = result.params"
   ]
  },
  {
   "cell_type": "code",
   "execution_count": 7,
   "id": "93e22c69",
   "metadata": {},
   "outputs": [
    {
     "name": "stdout",
     "output_type": "stream",
     "text": [
      "Expected monthly returns: 0.017416957404766495\n",
      "Expected yearly returns: 0.20900348885719794\n"
     ]
    }
   ],
   "source": [
    "expected_return = rf + beta*market_premium\n",
    "print(\"Expected monthly returns: \" + str(expected_return))\n",
    "yearly_return = expected_return * 12\n",
    "print(\"Expected yearly returns: \" + str(yearly_return))"
   ]
  },
  {
   "cell_type": "code",
   "execution_count": null,
   "id": "7f07ad99",
   "metadata": {},
   "outputs": [],
   "source": []
  }
 ],
 "metadata": {
  "kernelspec": {
   "display_name": "Python 3",
   "language": "python",
   "name": "python3"
  },
  "language_info": {
   "codemirror_mode": {
    "name": "ipython",
    "version": 3
   },
   "file_extension": ".py",
   "mimetype": "text/x-python",
   "name": "python",
   "nbconvert_exporter": "python",
   "pygments_lexer": "ipython3",
   "version": "3.8.8"
  }
 },
 "nbformat": 4,
 "nbformat_minor": 5
}
